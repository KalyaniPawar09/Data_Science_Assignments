{
  "cells": [
    {
      "cell_type": "code",
      "execution_count": null,
      "metadata": {
        "colab": {
          "background_save": true,
          "base_uri": "https://localhost:8080/"
        },
        "id": "dAQPFey0zDOn",
        "outputId": "c9fe23cd-b29e-468d-e9a7-d49e1f801f1e"
      },
      "outputs": [
        {
          "name": "stdout",
          "output_type": "stream",
          "text": [
            "Requirement already satisfied: pandas in /usr/local/lib/python3.10/dist-packages (2.2.2)\n",
            "Requirement already satisfied: numpy in /usr/local/lib/python3.10/dist-packages (1.26.4)\n",
            "Requirement already satisfied: matplotlib in /usr/local/lib/python3.10/dist-packages (3.7.1)\n",
            "Requirement already satisfied: seaborn in /usr/local/lib/python3.10/dist-packages (0.13.2)\n",
            "Requirement already satisfied: scikit-learn in /usr/local/lib/python3.10/dist-packages (1.5.2)\n",
            "Requirement already satisfied: python-dateutil>=2.8.2 in /usr/local/lib/python3.10/dist-packages (from pandas) (2.8.2)\n",
            "Requirement already satisfied: pytz>=2020.1 in /usr/local/lib/python3.10/dist-packages (from pandas) (2024.2)\n",
            "Requirement already satisfied: tzdata>=2022.7 in /usr/local/lib/python3.10/dist-packages (from pandas) (2024.2)\n",
            "Requirement already satisfied: contourpy>=1.0.1 in /usr/local/lib/python3.10/dist-packages (from matplotlib) (1.3.0)\n",
            "Requirement already satisfied: cycler>=0.10 in /usr/local/lib/python3.10/dist-packages (from matplotlib) (0.12.1)\n",
            "Requirement already satisfied: fonttools>=4.22.0 in /usr/local/lib/python3.10/dist-packages (from matplotlib) (4.54.1)\n",
            "Requirement already satisfied: kiwisolver>=1.0.1 in /usr/local/lib/python3.10/dist-packages (from matplotlib) (1.4.7)\n",
            "Requirement already satisfied: packaging>=20.0 in /usr/local/lib/python3.10/dist-packages (from matplotlib) (24.1)\n",
            "Requirement already satisfied: pillow>=6.2.0 in /usr/local/lib/python3.10/dist-packages (from matplotlib) (10.4.0)\n",
            "Requirement already satisfied: pyparsing>=2.3.1 in /usr/local/lib/python3.10/dist-packages (from matplotlib) (3.2.0)\n",
            "Requirement already satisfied: scipy>=1.6.0 in /usr/local/lib/python3.10/dist-packages (from scikit-learn) (1.13.1)\n",
            "Requirement already satisfied: joblib>=1.2.0 in /usr/local/lib/python3.10/dist-packages (from scikit-learn) (1.4.2)\n",
            "Requirement already satisfied: threadpoolctl>=3.1.0 in /usr/local/lib/python3.10/dist-packages (from scikit-learn) (3.5.0)\n",
            "Requirement already satisfied: six>=1.5 in /usr/local/lib/python3.10/dist-packages (from python-dateutil>=2.8.2->pandas) (1.16.0)\n"
          ]
        }
      ],
      "source": [
        "!pip install pandas numpy matplotlib seaborn scikit-learn\n",
        "import matplotlib.pyplot as plt  # Import the necessary library\n",
        "import seaborn as sns\n",
        "from sklearn.metrics import confusion_matrix"
      ]
    },
    {
      "cell_type": "code",
      "execution_count": null,
      "metadata": {
        "colab": {
          "background_save": true,
          "base_uri": "https://localhost:8080/"
        },
        "id": "ZDu0OSBbzuez",
        "outputId": "6a5e57e0-ac74-4285-d321-0cb72dde2ded"
      },
      "outputs": [
        {
          "name": "stdout",
          "output_type": "stream",
          "text": [
            "   Unnamed: 0 cap_shape cap_surface cap_color bruises   odor gill_attachment  \\\n",
            "0        1167    sunken       scaly     white      no  anise      descending   \n",
            "1        1037    sunken     fibrous       red      no  anise         notched   \n",
            "2         309      flat     grooves    purple     yes   foul      descending   \n",
            "3         282      bell       scaly      pink     yes  fishy         notched   \n",
            "4         820      flat      smooth    yellow     yes  musty            free   \n",
            "\n",
            "  gill_spacing gill_size gill_color  ...  veil_type veil_color ring_number  \\\n",
            "0      distant     broad       pink  ...    partial      brown         two   \n",
            "1      crowded    narrow  chocolate  ...  universal      brown         two   \n",
            "2      crowded     broad     purple  ...  universal     yellow         two   \n",
            "3        close     broad     orange  ...    partial     yellow         two   \n",
            "4      crowded    narrow     orange  ...  universal      white        none   \n",
            "\n",
            "   ring_type spore_print_color population  habitat      class stalk_height  \\\n",
            "0  sheathing         chocolate  clustered    waste  poisonous    14.276173   \n",
            "1  sheathing             brown   numerous    waste     edible     3.952715   \n",
            "2  sheathing            purple   abundant    waste  poisonous     9.054265   \n",
            "3   cobwebby             green  clustered  grasses  poisonous     5.226499   \n",
            "4       none            yellow  clustered    urban  poisonous    14.037532   \n",
            "\n",
            "  cap_diameter  \n",
            "0     5.054983  \n",
            "1    19.068319  \n",
            "2     7.205884  \n",
            "3    20.932692  \n",
            "4    12.545245  \n",
            "\n",
            "[5 rows x 26 columns]\n",
            "<class 'pandas.core.frame.DataFrame'>\n",
            "RangeIndex: 2000 entries, 0 to 1999\n",
            "Data columns (total 26 columns):\n",
            " #   Column                    Non-Null Count  Dtype  \n",
            "---  ------                    --------------  -----  \n",
            " 0   Unnamed: 0                2000 non-null   int64  \n",
            " 1   cap_shape                 2000 non-null   object \n",
            " 2   cap_surface               2000 non-null   object \n",
            " 3   cap_color                 2000 non-null   object \n",
            " 4   bruises                   2000 non-null   object \n",
            " 5   odor                      2000 non-null   object \n",
            " 6   gill_attachment           2000 non-null   object \n",
            " 7   gill_spacing              2000 non-null   object \n",
            " 8   gill_size                 2000 non-null   object \n",
            " 9   gill_color                2000 non-null   object \n",
            " 10  stalk_shape               2000 non-null   object \n",
            " 11  stalk_root                2000 non-null   object \n",
            " 12  stalk_surface_above_ring  2000 non-null   object \n",
            " 13  stalk_surface_below_ring  2000 non-null   object \n",
            " 14  stalk_color_above_ring    2000 non-null   object \n",
            " 15  stalk_color_below_ring    2000 non-null   object \n",
            " 16  veil_type                 2000 non-null   object \n",
            " 17  veil_color                2000 non-null   object \n",
            " 18  ring_number               2000 non-null   object \n",
            " 19  ring_type                 2000 non-null   object \n",
            " 20  spore_print_color         2000 non-null   object \n",
            " 21  population                2000 non-null   object \n",
            " 22  habitat                   2000 non-null   object \n",
            " 23  class                     2000 non-null   object \n",
            " 24  stalk_height              2000 non-null   float64\n",
            " 25  cap_diameter              2000 non-null   float64\n",
            "dtypes: float64(2), int64(1), object(23)\n",
            "memory usage: 406.4+ KB\n",
            "None\n",
            "Categorical Columns: ['cap_shape', 'cap_surface', 'cap_color', 'bruises', 'odor', 'gill_attachment', 'gill_spacing', 'gill_size', 'gill_color', 'stalk_shape', 'stalk_root', 'stalk_surface_above_ring', 'stalk_surface_below_ring', 'stalk_color_above_ring', 'stalk_color_below_ring', 'veil_type', 'veil_color', 'ring_number', 'ring_type', 'spore_print_color', 'population', 'habitat', 'class']\n",
            "   Unnamed: 0  stalk_height  cap_diameter  cap_shape_conical  \\\n",
            "0        1167     14.276173      5.054983              False   \n",
            "1        1037      3.952715     19.068319              False   \n",
            "2         309      9.054265      7.205884              False   \n",
            "3         282      5.226499     20.932692              False   \n",
            "4         820     14.037532     12.545245              False   \n",
            "\n",
            "   cap_shape_convex  cap_shape_flat  cap_shape_sunken  cap_surface_grooves  \\\n",
            "0             False           False              True                False   \n",
            "1             False           False              True                False   \n",
            "2             False            True             False                 True   \n",
            "3             False           False             False                False   \n",
            "4             False            True             False                False   \n",
            "\n",
            "   cap_surface_scaly  cap_surface_smooth  ...  population_scattered  \\\n",
            "0               True               False  ...                 False   \n",
            "1              False               False  ...                 False   \n",
            "2              False               False  ...                 False   \n",
            "3               True               False  ...                 False   \n",
            "4              False                True  ...                 False   \n",
            "\n",
            "   population_several  population_solitary  habitat_leaves  habitat_meadows  \\\n",
            "0               False                False           False            False   \n",
            "1               False                False           False            False   \n",
            "2               False                False           False            False   \n",
            "3               False                False           False            False   \n",
            "4               False                False           False            False   \n",
            "\n",
            "   habitat_paths  habitat_urban  habitat_waste  habitat_woods  class_poisonous  \n",
            "0          False          False           True          False             True  \n",
            "1          False          False           True          False            False  \n",
            "2          False          False           True          False             True  \n",
            "3          False          False          False          False             True  \n",
            "4          False           True          False          False             True  \n",
            "\n",
            "[5 rows x 106 columns]\n",
            "Index(['Unnamed: 0', 'stalk_height', 'cap_diameter', 'cap_shape_conical',\n",
            "       'cap_shape_convex', 'cap_shape_flat', 'cap_shape_sunken',\n",
            "       'cap_surface_grooves', 'cap_surface_scaly', 'cap_surface_smooth',\n",
            "       ...\n",
            "       'population_scattered', 'population_several', 'population_solitary',\n",
            "       'habitat_leaves', 'habitat_meadows', 'habitat_paths', 'habitat_urban',\n",
            "       'habitat_waste', 'habitat_woods', 'class_poisonous'],\n",
            "      dtype='object', length=106)\n",
            "(1600, 105) (400, 105) (1600,) (400,)\n"
          ]
        }
      ],
      "source": [
        "import pandas as pd\n",
        "\n",
        "# Load the Mushroom dataset\n",
        "df = pd.read_csv('/content/mushroom.csv')\n",
        "\n",
        "# Display the first few rows of the dataset\n",
        "print(df.head())\n",
        "print(df.info())\n",
        "\n",
        "# Check for categorical columns\n",
        "categorical_cols = df.select_dtypes(include=['object']).columns.tolist()\n",
        "print(f'Categorical Columns: {categorical_cols}')\n",
        "\n",
        "# Encode categorical variables using one-hot encoding\n",
        "df_encoded = pd.get_dummies(df, columns=categorical_cols, drop_first=True)\n",
        "\n",
        "# Display the first few rows of the encoded DataFrame and its columns\n",
        "print(df_encoded.head())\n",
        "print(df_encoded.columns)\n",
        "\n",
        "# Set the target variable correctly\n",
        "# Use 'class_poisonous' as the target variable for classification\n",
        "X = df_encoded.drop(['class_poisonous'], axis=1)  # Dropping the target variable from features\n",
        "y = df_encoded['class_poisonous']  # Using 'class_poisonous' as the target variable\n",
        "\n",
        "# Splitting the dataset into training and testing sets\n",
        "from sklearn.model_selection import train_test_split\n",
        "\n",
        "X_train, X_test, y_train, y_test = train_test_split(X, y, test_size=0.2, random_state=42)\n",
        "\n",
        "print(X_train.shape, X_test.shape, y_train.shape, y_test.shape)\n"
      ]
    },
    {
      "cell_type": "code",
      "execution_count": null,
      "metadata": {
        "colab": {
          "background_save": true,
          "base_uri": "https://localhost:8080/"
        },
        "id": "rcku0wpG1NDd",
        "outputId": "2f57c8ec-a527-4e3f-8f51-3e302a91d1ea"
      },
      "outputs": [
        {
          "name": "stdout",
          "output_type": "stream",
          "text": [
            "   Unnamed: 0  stalk_height  cap_diameter  cap_shape_conical  \\\n",
            "0        1167     14.276173      5.054983              False   \n",
            "1        1037      3.952715     19.068319              False   \n",
            "2         309      9.054265      7.205884              False   \n",
            "3         282      5.226499     20.932692              False   \n",
            "4         820     14.037532     12.545245              False   \n",
            "\n",
            "   cap_shape_convex  cap_shape_flat  cap_shape_sunken  cap_surface_grooves  \\\n",
            "0             False           False              True                False   \n",
            "1             False           False              True                False   \n",
            "2             False            True             False                 True   \n",
            "3             False           False             False                False   \n",
            "4             False            True             False                False   \n",
            "\n",
            "   cap_surface_scaly  cap_surface_smooth  ...  population_scattered  \\\n",
            "0               True               False  ...                 False   \n",
            "1              False               False  ...                 False   \n",
            "2              False               False  ...                 False   \n",
            "3               True               False  ...                 False   \n",
            "4              False                True  ...                 False   \n",
            "\n",
            "   population_several  population_solitary  habitat_leaves  habitat_meadows  \\\n",
            "0               False                False           False            False   \n",
            "1               False                False           False            False   \n",
            "2               False                False           False            False   \n",
            "3               False                False           False            False   \n",
            "4               False                False           False            False   \n",
            "\n",
            "   habitat_paths  habitat_urban  habitat_waste  habitat_woods  class_poisonous  \n",
            "0          False          False           True          False             True  \n",
            "1          False          False           True          False            False  \n",
            "2          False          False           True          False             True  \n",
            "3          False          False          False          False             True  \n",
            "4          False           True          False          False             True  \n",
            "\n",
            "[5 rows x 106 columns]\n",
            "Index(['Unnamed: 0', 'stalk_height', 'cap_diameter', 'cap_shape_conical',\n",
            "       'cap_shape_convex', 'cap_shape_flat', 'cap_shape_sunken',\n",
            "       'cap_surface_grooves', 'cap_surface_scaly', 'cap_surface_smooth',\n",
            "       ...\n",
            "       'population_scattered', 'population_several', 'population_solitary',\n",
            "       'habitat_leaves', 'habitat_meadows', 'habitat_paths', 'habitat_urban',\n",
            "       'habitat_waste', 'habitat_woods', 'class_poisonous'],\n",
            "      dtype='object', length=106)\n",
            "(1600, 105) (400, 105) (1600,) (400,)\n"
          ]
        }
      ],
      "source": [
        "# Encode categorical variables using one-hot encoding\n",
        "df_encoded = pd.get_dummies(df, columns=categorical_cols, drop_first=True)\n",
        "\n",
        "# Display the first few rows of the encoded DataFrame and its columns\n",
        "print(df_encoded.head())\n",
        "print(df_encoded.columns)\n",
        "\n",
        "# Set the target variable correctly\n",
        "# Use 'class_poisonous' as the target variable for classification\n",
        "X = df_encoded.drop(['class_poisonous'], axis=1)  # Dropping the target variable from features\n",
        "y = df_encoded['class_poisonous']  # Using 'class_poisonous' as the target variable\n",
        "\n",
        "# Splitting the dataset into training and testing sets\n",
        "X_train, X_test, y_train, y_test = train_test_split(X, y, test_size=0.2, random_state=42)\n",
        "\n",
        "# Print the shapes of the splits to confirm\n",
        "print(X_train.shape, X_test.shape, y_train.shape, y_test.shape)"
      ]
    },
    {
      "cell_type": "code",
      "execution_count": null,
      "metadata": {
        "colab": {
          "background_save": true,
          "base_uri": "https://localhost:8080/",
          "height": 373
        },
        "id": "U8RxPsxM1NBB",
        "outputId": "926ed96f-7af7-4463-bc2b-033548d6ae4d"
      },
      "outputs": [
        {
          "name": "stdout",
          "output_type": "stream",
          "text": [
            "              precision    recall  f1-score   support\n",
            "\n",
            "       False       0.55      0.12      0.20       133\n",
            "        True       0.68      0.95      0.80       267\n",
            "\n",
            "    accuracy                           0.68       400\n",
            "   macro avg       0.62      0.54      0.50       400\n",
            "weighted avg       0.64      0.68      0.60       400\n",
            "\n",
            "[[ 16 117]\n",
            " [ 13 254]]\n"
          ]
        }
      ],
      "source": [
        "from sklearn import svm\n",
        "from sklearn.metrics import classification_report, confusion_matrix\n",
        "\n",
        "# Implementing SVM classifier\n",
        "svm_model = svm.SVC(kernel='linear')  # Change kernel type as needed\n",
        "svm_model.fit(X_train, y_train)\n",
        "\n",
        "# Predict on the testing data\n",
        "y_pred = svm_model.predict(X_test)\n",
        "\n",
        "# Evaluate model performance\n",
        "print(classification_report(y_test, y_pred))\n",
        "print(confusion_matrix(y_test, y_pred))"
      ]
    },
    {
      "cell_type": "code",
      "execution_count": null,
      "metadata": {
        "colab": {
          "background_save": true
        },
        "id": "PJDdkL5P6_fN",
        "outputId": "7b469312-080b-438e-8fd3-c44989567bc0"
      },
      "outputs": [
        {
          "data": {
            "image/png": "[encoded data removed]",
            "text/plain": [
              "<Figure size 1000x700 with 2 Axes>"
            ]
          },
          "metadata": {},
          "output_type": "display_data"
        }
      ],
      "source": [
        "# Visualizing classification results\n",
        "plt.figure(figsize=(10, 7))\n",
        "sns.heatmap(confusion_matrix(y_test, y_pred), annot=True, fmt='d', cmap='Blues')\n",
        "plt.title('Confusion Matrix')\n",
        "plt.ylabel('Actual')\n",
        "plt.xlabel('Predicted')\n",
        "plt.show()\n"
      ]
    },
    {
      "cell_type": "code",
      "execution_count": null,
      "metadata": {
        "colab": {
          "background_save": true
        },
        "id": "UGzFUlZc75Q-",
        "outputId": "3c7859f7-21f1-4617-c64b-f09bb10eca13"
      },
      "outputs": [
        {
          "name": "stdout",
          "output_type": "stream",
          "text": [
            "Fitting 5 folds for each of 12 candidates, totalling 60 fits\n",
            "[CV] END ...............................C=0.1, kernel=linear; total time= 2.7min\n",
            "[CV] END ...............................C=0.1, kernel=linear; total time= 2.3min\n",
            "[CV] END ...............................C=0.1, kernel=linear; total time= 2.5min\n",
            "[CV] END ...............................C=0.1, kernel=linear; total time= 1.6min\n",
            "[CV] END ...............................C=0.1, kernel=linear; total time= 5.7min\n",
            "[CV] END .................................C=0.1, kernel=poly; total time=   0.1s\n",
            "[CV] END .................................C=0.1, kernel=poly; total time=   0.1s\n",
            "[CV] END .................................C=0.1, kernel=poly; total time=   0.1s\n",
            "[CV] END .................................C=0.1, kernel=poly; total time=   0.1s\n",
            "[CV] END .................................C=0.1, kernel=poly; total time=   0.1s\n",
            "[CV] END ..................................C=0.1, kernel=rbf; total time=   0.1s\n",
            "[CV] END ..................................C=0.1, kernel=rbf; total time=   0.1s\n",
            "[CV] END ..................................C=0.1, kernel=rbf; total time=   0.1s\n",
            "[CV] END ..................................C=0.1, kernel=rbf; total time=   0.1s\n",
            "[CV] END ..................................C=0.1, kernel=rbf; total time=   0.1s\n",
            "[CV] END .................................C=1, kernel=linear; total time= 6.4min\n"
          ]
        }
      ],
      "source": [
        "from sklearn.model_selection import GridSearchCV\n",
        "\n",
        "# Define parameters to tune\n",
        "param_grid = {\n",
        "    'C': [0.1, 1, 10, 100],\n",
        "    'kernel': ['linear', 'poly', 'rbf'],\n",
        "}\n",
        "\n",
        "grid = GridSearchCV(svm.SVC(), param_grid, refit=True, verbose=2)\n",
        "grid.fit(X_train, y_train)\n",
        "\n",
        "# Best parameters\n",
        "print(\"Best parameters found: \", grid.best_params_)\n"
      ]
    },
    {
      "cell_type": "code",
      "execution_count": null,
      "metadata": {
        "id": "1MKB3TiA75Bb"
      },
      "outputs": [],
      "source": [
        "# Compare SVM performance with various kernels\n",
        "for kernel in ['linear', 'poly', 'rbf']:\n",
        "    svm_model = svm.SVC(kernel=kernel)\n",
        "    svm_model.fit(X_train, y_train)\n",
        "    y_pred = svm_model.predict(X_test)\n",
        "    print(f'Performance for kernel: {kernel}')\n",
        "    print(classification_report(y_test, y_pred))\n"
      ]
    }
  ],
  "metadata": {
    "colab": {
      "provenance": []
    },
    "kernelspec": {
      "display_name": "Python 3",
      "name": "python3"
    },
    "language_info": {
      "name": "python"
    }
  },
  "nbformat": 4,
  "nbformat_minor": 0
}