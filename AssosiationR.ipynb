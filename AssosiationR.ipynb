{
  "nbformat": 4,
  "nbformat_minor": 0,
  "metadata": {
    "colab": {
      "provenance": []
    },
    "kernelspec": {
      "name": "python3",
      "display_name": "Python 3"
    },
    "language_info": {
      "name": "python"
    }
  },
  "cells": [
    {
      "cell_type": "code",
      "execution_count": null,
      "metadata": {
        "id": "cCtJAaFchLc3"
      },
      "outputs": [],
      "source": [
        "#import the Libraries\n",
        "import pandas as pd\n",
        "import numpy as np\n",
        "from mlxtend.preprocessing import TransactionEncoder\n",
        "from mlxtend.frequent_patterns import apriori, association_rules\n",
        "import matplotlib.pyplot as plt\n",
        "import seaborn as sns"
      ]
    },
    {
      "cell_type": "code",
      "source": [
        "#Load the dataset\n",
        "df = pd.read_excel('/content/Online retail.xlsx')"
      ],
      "metadata": {
        "colab": {
          "base_uri": "https://localhost:8080/"
        },
        "id": "DsU8ki6Mme8C",
        "outputId": "66d1b6cc-b062-4d77-d467-ac7c03d3c02d"
      },
      "execution_count": null,
      "outputs": [
        {
          "output_type": "stream",
          "name": "stderr",
          "text": [
            "/usr/local/lib/python3.10/dist-packages/ipykernel/ipkernel.py:283: DeprecationWarning: `should_run_async` will not call `transform_cell` automatically in the future. Please pass the result to `transformed_cell` argument and any exception that happen during thetransform in `preprocessing_exc_tuple` in IPython 7.17 and above.\n",
            "  and should_run_async(code)\n"
          ]
        }
      ]
    },
    {
      "cell_type": "code",
      "source": [
        "df = pd.read_excel('/content/Online retail.xlsx', sheet_name='Sheet1')\n"
      ],
      "metadata": {
        "colab": {
          "base_uri": "https://localhost:8080/"
        },
        "id": "a3UlhZgxme4l",
        "outputId": "fa120718-c968-4ec1-f409-26db150bc7be"
      },
      "execution_count": null,
      "outputs": [
        {
          "output_type": "stream",
          "name": "stderr",
          "text": [
            "/usr/local/lib/python3.10/dist-packages/ipykernel/ipkernel.py:283: DeprecationWarning: `should_run_async` will not call `transform_cell` automatically in the future. Please pass the result to `transformed_cell` argument and any exception that happen during thetransform in `preprocessing_exc_tuple` in IPython 7.17 and above.\n",
            "  and should_run_async(code)\n"
          ]
        }
      ]
    },
    {
      "cell_type": "code",
      "source": [
        "# Display first few rows\n",
        "print(df.head())\n"
      ],
      "metadata": {
        "colab": {
          "base_uri": "https://localhost:8080/"
        },
        "id": "oUQ-JGO9me2G",
        "outputId": "399b6651-e274-4848-9042-afeef1746d7a"
      },
      "execution_count": null,
      "outputs": [
        {
          "output_type": "stream",
          "name": "stdout",
          "text": [
            "  shrimp,almonds,avocado,vegetables mix,green grapes,whole weat flour,yams,cottage cheese,energy drink,tomato juice,low fat yogurt,green tea,honey,salad,mineral water,salmon,antioxydant juice,frozen smoothie,spinach,olive oil\n",
            "0                             burgers,meatballs,eggs                                                                                                                                                                             \n",
            "1                                            chutney                                                                                                                                                                             \n",
            "2                                     turkey,avocado                                                                                                                                                                             \n",
            "3  mineral water,milk,energy bar,whole wheat rice...                                                                                                                                                                             \n",
            "4                                     low fat yogurt                                                                                                                                                                             \n"
          ]
        },
        {
          "output_type": "stream",
          "name": "stderr",
          "text": [
            "/usr/local/lib/python3.10/dist-packages/ipykernel/ipkernel.py:283: DeprecationWarning: `should_run_async` will not call `transform_cell` automatically in the future. Please pass the result to `transformed_cell` argument and any exception that happen during thetransform in `preprocessing_exc_tuple` in IPython 7.17 and above.\n",
            "  and should_run_async(code)\n"
          ]
        }
      ]
    },
    {
      "cell_type": "code",
      "source": [
        "df.info()"
      ],
      "metadata": {
        "colab": {
          "base_uri": "https://localhost:8080/"
        },
        "id": "15dRUfVlmezk",
        "outputId": "7ec64155-895c-4c3a-d764-5b6a13bd7c96"
      },
      "execution_count": null,
      "outputs": [
        {
          "output_type": "stream",
          "name": "stdout",
          "text": [
            "<class 'pandas.core.frame.DataFrame'>\n",
            "RangeIndex: 7500 entries, 0 to 7499\n",
            "Data columns (total 1 columns):\n",
            " #   Column                                                                                                                                                                                                                           Non-Null Count  Dtype \n",
            "---  ------                                                                                                                                                                                                                           --------------  ----- \n",
            " 0   shrimp,almonds,avocado,vegetables mix,green grapes,whole weat flour,yams,cottage cheese,energy drink,tomato juice,low fat yogurt,green tea,honey,salad,mineral water,salmon,antioxydant juice,frozen smoothie,spinach,olive oil  7500 non-null   object\n",
            "dtypes: object(1)\n",
            "memory usage: 58.7+ KB\n"
          ]
        },
        {
          "output_type": "stream",
          "name": "stderr",
          "text": [
            "/usr/local/lib/python3.10/dist-packages/ipykernel/ipkernel.py:283: DeprecationWarning: `should_run_async` will not call `transform_cell` automatically in the future. Please pass the result to `transformed_cell` argument and any exception that happen during thetransform in `preprocessing_exc_tuple` in IPython 7.17 and above.\n",
            "  and should_run_async(code)\n"
          ]
        }
      ]
    },
    {
      "cell_type": "code",
      "source": [
        "df.columns = ['Items']"
      ],
      "metadata": {
        "colab": {
          "base_uri": "https://localhost:8080/"
        },
        "id": "BrPjIquVmeww",
        "outputId": "f78b8654-7d17-4bc5-96b0-20f5a4c01c28"
      },
      "execution_count": null,
      "outputs": [
        {
          "output_type": "stream",
          "name": "stderr",
          "text": [
            "/usr/local/lib/python3.10/dist-packages/ipykernel/ipkernel.py:283: DeprecationWarning: `should_run_async` will not call `transform_cell` automatically in the future. Please pass the result to `transformed_cell` argument and any exception that happen during thetransform in `preprocessing_exc_tuple` in IPython 7.17 and above.\n",
            "  and should_run_async(code)\n"
          ]
        }
      ]
    },
    {
      "cell_type": "code",
      "source": [
        "transactions = df['Items'].apply(lambda x: x.split(','))"
      ],
      "metadata": {
        "colab": {
          "base_uri": "https://localhost:8080/"
        },
        "id": "qdE923supYqg",
        "outputId": "cdd181fc-c3ce-4df7-a739-b46137c3fc0e"
      },
      "execution_count": null,
      "outputs": [
        {
          "output_type": "stream",
          "name": "stderr",
          "text": [
            "/usr/local/lib/python3.10/dist-packages/ipykernel/ipkernel.py:283: DeprecationWarning: `should_run_async` will not call `transform_cell` automatically in the future. Please pass the result to `transformed_cell` argument and any exception that happen during thetransform in `preprocessing_exc_tuple` in IPython 7.17 and above.\n",
            "  and should_run_async(code)\n"
          ]
        }
      ]
    },
    {
      "cell_type": "code",
      "source": [
        "print(transactions.head())"
      ],
      "metadata": {
        "colab": {
          "base_uri": "https://localhost:8080/"
        },
        "id": "VXNb33rhmevJ",
        "outputId": "de00b41d-c199-433e-e56b-880d2c0110ed"
      },
      "execution_count": null,
      "outputs": [
        {
          "output_type": "stream",
          "name": "stdout",
          "text": [
            "0                           [burgers, meatballs, eggs]\n",
            "1                                            [chutney]\n",
            "2                                    [turkey, avocado]\n",
            "3    [mineral water, milk, energy bar, whole wheat ...\n",
            "4                                     [low fat yogurt]\n",
            "Name: Items, dtype: object\n"
          ]
        },
        {
          "output_type": "stream",
          "name": "stderr",
          "text": [
            "/usr/local/lib/python3.10/dist-packages/ipykernel/ipkernel.py:283: DeprecationWarning: `should_run_async` will not call `transform_cell` automatically in the future. Please pass the result to `transformed_cell` argument and any exception that happen during thetransform in `preprocessing_exc_tuple` in IPython 7.17 and above.\n",
            "  and should_run_async(code)\n"
          ]
        }
      ]
    },
    {
      "cell_type": "code",
      "source": [
        "from mlxtend.preprocessing import TransactionEncoder"
      ],
      "metadata": {
        "colab": {
          "base_uri": "https://localhost:8080/"
        },
        "id": "URLdXlwMmesh",
        "outputId": "17ec3c10-e455-464a-beba-f08f0eef96e1"
      },
      "execution_count": null,
      "outputs": [
        {
          "output_type": "stream",
          "name": "stderr",
          "text": [
            "/usr/local/lib/python3.10/dist-packages/ipykernel/ipkernel.py:283: DeprecationWarning: `should_run_async` will not call `transform_cell` automatically in the future. Please pass the result to `transformed_cell` argument and any exception that happen during thetransform in `preprocessing_exc_tuple` in IPython 7.17 and above.\n",
            "  and should_run_async(code)\n"
          ]
        }
      ]
    },
    {
      "cell_type": "code",
      "source": [
        "te = TransactionEncoder()"
      ],
      "metadata": {
        "colab": {
          "base_uri": "https://localhost:8080/"
        },
        "id": "m-sUAcWrmeqU",
        "outputId": "4044e930-cd9f-4599-e9f7-899816ceebd0"
      },
      "execution_count": null,
      "outputs": [
        {
          "output_type": "stream",
          "name": "stderr",
          "text": [
            "/usr/local/lib/python3.10/dist-packages/ipykernel/ipkernel.py:283: DeprecationWarning: `should_run_async` will not call `transform_cell` automatically in the future. Please pass the result to `transformed_cell` argument and any exception that happen during thetransform in `preprocessing_exc_tuple` in IPython 7.17 and above.\n",
            "  and should_run_async(code)\n"
          ]
        }
      ]
    },
    {
      "cell_type": "code",
      "source": [
        "te_ary = te.fit(transactions).transform(transactions)"
      ],
      "metadata": {
        "colab": {
          "base_uri": "https://localhost:8080/"
        },
        "id": "GqTHfejfmenz",
        "outputId": "341148fc-ab8b-4efe-f431-1f655a4a30f8"
      },
      "execution_count": null,
      "outputs": [
        {
          "output_type": "stream",
          "name": "stderr",
          "text": [
            "/usr/local/lib/python3.10/dist-packages/ipykernel/ipkernel.py:283: DeprecationWarning: `should_run_async` will not call `transform_cell` automatically in the future. Please pass the result to `transformed_cell` argument and any exception that happen during thetransform in `preprocessing_exc_tuple` in IPython 7.17 and above.\n",
            "  and should_run_async(code)\n"
          ]
        }
      ]
    },
    {
      "cell_type": "code",
      "source": [
        "df_encoded = pd.DataFrame(te_ary, columns=te.columns_)"
      ],
      "metadata": {
        "colab": {
          "base_uri": "https://localhost:8080/"
        },
        "id": "C0FqGLd8melc",
        "outputId": "79afd5ee-d366-4503-e5d3-219667cacd46"
      },
      "execution_count": null,
      "outputs": [
        {
          "output_type": "stream",
          "name": "stderr",
          "text": [
            "/usr/local/lib/python3.10/dist-packages/ipykernel/ipkernel.py:283: DeprecationWarning: `should_run_async` will not call `transform_cell` automatically in the future. Please pass the result to `transformed_cell` argument and any exception that happen during thetransform in `preprocessing_exc_tuple` in IPython 7.17 and above.\n",
            "  and should_run_async(code)\n"
          ]
        }
      ]
    },
    {
      "cell_type": "code",
      "source": [
        "print(df_encoded.head())"
      ],
      "metadata": {
        "colab": {
          "base_uri": "https://localhost:8080/"
        },
        "id": "9iHP4DlEmejb",
        "outputId": "b1990806-df85-42ca-d937-76e8c870ed4a"
      },
      "execution_count": null,
      "outputs": [
        {
          "output_type": "stream",
          "name": "stdout",
          "text": [
            "    asparagus  almonds  antioxydant juice  asparagus  avocado  babies food  \\\n",
            "0       False    False              False      False    False        False   \n",
            "1       False    False              False      False    False        False   \n",
            "2       False    False              False      False     True        False   \n",
            "3       False    False              False      False    False        False   \n",
            "4       False    False              False      False    False        False   \n",
            "\n",
            "   bacon  barbecue sauce  black tea  blueberries  ...  turkey  vegetables mix  \\\n",
            "0  False           False      False        False  ...   False           False   \n",
            "1  False           False      False        False  ...   False           False   \n",
            "2  False           False      False        False  ...    True           False   \n",
            "3  False           False      False        False  ...   False           False   \n",
            "4  False           False      False        False  ...   False           False   \n",
            "\n",
            "   water spray  white wine  whole weat flour  whole wheat pasta  \\\n",
            "0        False       False             False              False   \n",
            "1        False       False             False              False   \n",
            "2        False       False             False              False   \n",
            "3        False       False             False              False   \n",
            "4        False       False             False              False   \n",
            "\n",
            "   whole wheat rice   yams  yogurt cake  zucchini  \n",
            "0             False  False        False     False  \n",
            "1             False  False        False     False  \n",
            "2             False  False        False     False  \n",
            "3              True  False        False     False  \n",
            "4             False  False        False     False  \n",
            "\n",
            "[5 rows x 120 columns]\n"
          ]
        },
        {
          "output_type": "stream",
          "name": "stderr",
          "text": [
            "/usr/local/lib/python3.10/dist-packages/ipykernel/ipkernel.py:283: DeprecationWarning: `should_run_async` will not call `transform_cell` automatically in the future. Please pass the result to `transformed_cell` argument and any exception that happen during thetransform in `preprocessing_exc_tuple` in IPython 7.17 and above.\n",
            "  and should_run_async(code)\n"
          ]
        }
      ]
    },
    {
      "cell_type": "code",
      "source": [
        "from mlxtend.frequent_patterns import apriori\n",
        "\n",
        "# Set a minimum support threshold (e.g., 0.01 for 1%)\n",
        "min_support = 0.01\n",
        "\n",
        "# Apply the apriori algorithm to find frequent itemsets\n",
        "frequent_itemsets = apriori(df_encoded, min_support=min_support, use_colnames=True)\n",
        "\n",
        "# Display the frequent itemsets\n",
        "print(frequent_itemsets.head())\n"
      ],
      "metadata": {
        "colab": {
          "base_uri": "https://localhost:8080/"
        },
        "id": "a5iUtFNumegh",
        "outputId": "1e76cdf6-3024-4e4d-e354-8acb5649215b"
      },
      "execution_count": null,
      "outputs": [
        {
          "output_type": "stream",
          "name": "stdout",
          "text": [
            "    support          itemsets\n",
            "0  0.020267         (almonds)\n",
            "1  0.033200         (avocado)\n",
            "2  0.010800  (barbecue sauce)\n",
            "3  0.014267       (black tea)\n",
            "4  0.011467      (body spray)\n"
          ]
        },
        {
          "output_type": "stream",
          "name": "stderr",
          "text": [
            "/usr/local/lib/python3.10/dist-packages/ipykernel/ipkernel.py:283: DeprecationWarning: `should_run_async` will not call `transform_cell` automatically in the future. Please pass the result to `transformed_cell` argument and any exception that happen during thetransform in `preprocessing_exc_tuple` in IPython 7.17 and above.\n",
            "  and should_run_async(code)\n"
          ]
        }
      ]
    },
    {
      "cell_type": "code",
      "source": [
        "from mlxtend.frequent_patterns import association_rules\n",
        "\n",
        "# Set a minimum confidence threshold (e.g., 0.3 for 30%)\n",
        "min_confidence = 0.3\n",
        "\n",
        "# Generate the association rules\n",
        "rules = association_rules(frequent_itemsets, metric=\"confidence\", min_threshold=min_confidence)\n",
        "\n",
        "# Display the generated rules\n",
        "print(rules.head())\n"
      ],
      "metadata": {
        "colab": {
          "base_uri": "https://localhost:8080/"
        },
        "id": "3fCMD3eRqm72",
        "outputId": "69e619a9-d20f-4d0b-eb03-124c2a98ca67"
      },
      "execution_count": null,
      "outputs": [
        {
          "output_type": "stream",
          "name": "stdout",
          "text": [
            "  antecedents      consequents  antecedent support  consequent support  \\\n",
            "0   (avocado)  (mineral water)            0.033200            0.238267   \n",
            "1   (burgers)           (eggs)            0.087200            0.179733   \n",
            "2      (cake)  (mineral water)            0.081067            0.238267   \n",
            "3   (cereals)  (mineral water)            0.025733            0.238267   \n",
            "4   (chicken)  (mineral water)            0.060000            0.238267   \n",
            "\n",
            "    support  confidence      lift  leverage  conviction  zhangs_metric  \n",
            "0  0.011467    0.345382  1.449559  0.003556    1.163629       0.320785  \n",
            "1  0.028800    0.330275  1.837585  0.013127    1.224782       0.499351  \n",
            "2  0.027467    0.338816  1.422002  0.008151    1.152074       0.322947  \n",
            "3  0.010267    0.398964  1.674442  0.004135    1.267367       0.413425  \n",
            "4  0.022800    0.380000  1.594852  0.008504    1.228602       0.396790  \n"
          ]
        },
        {
          "output_type": "stream",
          "name": "stderr",
          "text": [
            "/usr/local/lib/python3.10/dist-packages/ipykernel/ipkernel.py:283: DeprecationWarning: `should_run_async` will not call `transform_cell` automatically in the future. Please pass the result to `transformed_cell` argument and any exception that happen during thetransform in `preprocessing_exc_tuple` in IPython 7.17 and above.\n",
            "  and should_run_async(code)\n"
          ]
        }
      ]
    },
    {
      "cell_type": "code",
      "source": [
        "# Set a minimum lift threshold (e.g., 1.0)\n",
        "min_lift = 1.0\n",
        "\n",
        "# Filter the rules with lift greater than or equal to 1.0\n",
        "rules = rules[rules['lift'] >= min_lift]\n",
        "\n",
        "# Display the filtered rules\n",
        "print(rules.head())\n"
      ],
      "metadata": {
        "colab": {
          "base_uri": "https://localhost:8080/"
        },
        "id": "wuBgtlTpqm4Z",
        "outputId": "d5ed2daf-33c1-4765-cbcc-e3658630af5a"
      },
      "execution_count": null,
      "outputs": [
        {
          "output_type": "stream",
          "name": "stdout",
          "text": [
            "  antecedents      consequents  antecedent support  consequent support  \\\n",
            "0   (avocado)  (mineral water)            0.033200            0.238267   \n",
            "1   (burgers)           (eggs)            0.087200            0.179733   \n",
            "2      (cake)  (mineral water)            0.081067            0.238267   \n",
            "3   (cereals)  (mineral water)            0.025733            0.238267   \n",
            "4   (chicken)  (mineral water)            0.060000            0.238267   \n",
            "\n",
            "    support  confidence      lift  leverage  conviction  zhangs_metric  \n",
            "0  0.011467    0.345382  1.449559  0.003556    1.163629       0.320785  \n",
            "1  0.028800    0.330275  1.837585  0.013127    1.224782       0.499351  \n",
            "2  0.027467    0.338816  1.422002  0.008151    1.152074       0.322947  \n",
            "3  0.010267    0.398964  1.674442  0.004135    1.267367       0.413425  \n",
            "4  0.022800    0.380000  1.594852  0.008504    1.228602       0.396790  \n"
          ]
        },
        {
          "output_type": "stream",
          "name": "stderr",
          "text": [
            "/usr/local/lib/python3.10/dist-packages/ipykernel/ipkernel.py:283: DeprecationWarning: `should_run_async` will not call `transform_cell` automatically in the future. Please pass the result to `transformed_cell` argument and any exception that happen during thetransform in `preprocessing_exc_tuple` in IPython 7.17 and above.\n",
            "  and should_run_async(code)\n"
          ]
        }
      ]
    },
    {
      "cell_type": "code",
      "source": [
        "import seaborn as sns\n",
        "import matplotlib.pyplot as plt\n",
        "\n",
        "# Scatter plot of support vs. confidence, with lift as the size\n",
        "plt.figure(figsize=(10,6))\n",
        "sns.scatterplot(x='support', y='confidence', size='lift', data=rules, legend=False, sizes=(20, 200))\n",
        "plt.title('Support vs Confidence')\n",
        "plt.xlabel('Support')\n",
        "plt.ylabel('Confidence')\n",
        "plt.show()\n"
      ],
      "metadata": {
        "colab": {
          "base_uri": "https://localhost:8080/",
          "height": 485
        },
        "id": "xfI2fqheqm2K",
        "outputId": "c383c131-4dc1-40f1-8aee-36ed5b1dd9ae"
      },
      "execution_count": null,
      "outputs": [
        {
          "output_type": "stream",
          "name": "stderr",
          "text": [
            "/usr/local/lib/python3.10/dist-packages/ipykernel/ipkernel.py:283: DeprecationWarning: `should_run_async` will not call `transform_cell` automatically in the future. Please pass the result to `transformed_cell` argument and any exception that happen during thetransform in `preprocessing_exc_tuple` in IPython 7.17 and above.\n",
            "  and should_run_async(code)\n"
          ]
        },
        {
          "output_type": "display_data",
          "data": {
            "text/plain": [
              "<Figure size 1000x600 with 1 Axes>"
            ],
            "image/png": "[encoded data removed]"
          },
          "metadata": {}
        }
      ]
    },
    {
      "cell_type": "code",
      "source": [],
      "metadata": {
        "id": "2DMM9ezpqmzw"
      },
      "execution_count": null,
      "outputs": []
    },
    {
      "cell_type": "code",
      "source": [],
      "metadata": {
        "id": "TYYPr6PNqmxZ"
      },
      "execution_count": null,
      "outputs": []
    },
    {
      "cell_type": "code",
      "source": [],
      "metadata": {
        "id": "JGdWWc1ZqmvT"
      },
      "execution_count": null,
      "outputs": []
    },
    {
      "cell_type": "code",
      "source": [],
      "metadata": {
        "id": "Q0mdVaGoqmsz"
      },
      "execution_count": null,
      "outputs": []
    },
    {
      "cell_type": "code",
      "source": [],
      "metadata": {
        "id": "BLE6CBdmqmqJ"
      },
      "execution_count": null,
      "outputs": []
    },
    {
      "cell_type": "code",
      "source": [],
      "metadata": {
        "id": "iP82epM3meVX"
      },
      "execution_count": null,
      "outputs": []
    }
  ]
}